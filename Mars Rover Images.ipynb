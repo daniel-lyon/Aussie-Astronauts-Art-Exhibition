{
 "cells": [
  {
   "cell_type": "code",
   "execution_count": 30,
   "id": "bbdfde74",
   "metadata": {},
   "outputs": [],
   "source": [
    "import json\n",
    "import pandas as pd\n",
    "import requests"
   ]
  },
  {
   "cell_type": "code",
   "execution_count": 31,
   "id": "203dd31d",
   "metadata": {},
   "outputs": [],
   "source": [
    "from PIL import Image, ImageDraw"
   ]
  },
  {
   "cell_type": "code",
   "execution_count": 32,
   "id": "a4f8a705",
   "metadata": {},
   "outputs": [],
   "source": [
    "#NAVCAM LEFT\n",
    "with open('perseverance_navcam_left/perseverance_navcam_left.json', 'r') as f:\n",
    "    data = json.load(f)\n",
    "image_refs = []\n",
    "for i in data['latest_photos']:\n",
    "    image_refs.append(i['img_src'])"
   ]
  },
  {
   "cell_type": "code",
   "execution_count": 36,
   "id": "749e9fe9",
   "metadata": {},
   "outputs": [],
   "source": [
    "n=1\n",
    "for ref in image_refs:\n",
    "    img = Image.open(requests.get(ref, stream=True).raw)\n",
    "    img.resize((200,200))\n",
    "    draw = ImageDraw.Draw(img)\n",
    "    img.save(f\"perseverance_navcam_left/image_{n}.png\")\n",
    "    n+=1"
   ]
  },
  {
   "cell_type": "code",
   "execution_count": 38,
   "id": "ce3b358d",
   "metadata": {},
   "outputs": [],
   "source": [
    "#SHERLOC-WATSON\n",
    "with open('perseverance_sherlock/perseverance_sherlock.json', 'r') as f:\n",
    "    data = json.load(f)\n",
    "image_refs = []\n",
    "for i in data['latest_photos']:\n",
    "    image_refs.append(i['img_src'])"
   ]
  },
  {
   "cell_type": "code",
   "execution_count": 39,
   "id": "54493515",
   "metadata": {},
   "outputs": [],
   "source": [
    "n=1\n",
    "for ref in image_refs:\n",
    "    img = Image.open(requests.get(ref, stream=True).raw)\n",
    "    img.resize((200,200))\n",
    "    draw = ImageDraw.Draw(img)\n",
    "    img.save(f\"perseverance_sherlock/image_{n}.png\")\n",
    "    n+=1"
   ]
  },
  {
   "cell_type": "code",
   "execution_count": 41,
   "id": "17bca870",
   "metadata": {},
   "outputs": [],
   "source": [
    "#MCZ LEFT\n",
    "with open('perseverance_mcz_left/perseverance_mcz_left.json', 'r') as f:\n",
    "    data = json.load(f)\n",
    "image_refs = []\n",
    "for i in data['latest_photos']:\n",
    "    image_refs.append(i['img_src'])"
   ]
  },
  {
   "cell_type": "code",
   "execution_count": 42,
   "id": "694c4724",
   "metadata": {},
   "outputs": [],
   "source": [
    "n=1\n",
    "for ref in image_refs:\n",
    "    img = Image.open(requests.get(ref, stream=True).raw)\n",
    "    img.resize((200,200))\n",
    "    draw = ImageDraw.Draw(img)\n",
    "    img.save(f\"perseverance_mcz_left/image_{n}.png\")\n",
    "    n+=1"
   ]
  },
  {
   "cell_type": "code",
   "execution_count": 44,
   "id": "562f4345",
   "metadata": {},
   "outputs": [],
   "source": [
    "#MCZ RIGHT\n",
    "with open('perseverance_mcz_right/perseverance_mcz_right.json', 'r') as f:\n",
    "    data = json.load(f)\n",
    "image_refs = []\n",
    "for i in data['latest_photos']:\n",
    "    image_refs.append(i['img_src'])"
   ]
  },
  {
   "cell_type": "code",
   "execution_count": 45,
   "id": "338a4553",
   "metadata": {},
   "outputs": [],
   "source": [
    "n=1\n",
    "for ref in image_refs:\n",
    "    img = Image.open(requests.get(ref, stream=True).raw)\n",
    "    img.resize((200,200))\n",
    "    draw = ImageDraw.Draw(img)\n",
    "    img.save(f\"perseverance_mcz_right/image_{n}.png\")\n",
    "    n+=1"
   ]
  },
  {
   "cell_type": "code",
   "execution_count": null,
   "id": "268af5f7",
   "metadata": {},
   "outputs": [],
   "source": []
  }
 ],
 "metadata": {
  "kernelspec": {
   "display_name": "Python 3 (ipykernel)",
   "language": "python",
   "name": "python3"
  },
  "language_info": {
   "codemirror_mode": {
    "name": "ipython",
    "version": 3
   },
   "file_extension": ".py",
   "mimetype": "text/x-python",
   "name": "python",
   "nbconvert_exporter": "python",
   "pygments_lexer": "ipython3",
   "version": "3.9.7"
  }
 },
 "nbformat": 4,
 "nbformat_minor": 5
}
